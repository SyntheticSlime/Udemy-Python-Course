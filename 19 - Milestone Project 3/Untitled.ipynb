{
 "cells": [
  {
   "cell_type": "code",
   "execution_count": 3,
   "id": "443e8502",
   "metadata": {},
   "outputs": [
    {
     "name": "stdout",
     "output_type": "stream",
     "text": [
      "Hello, World!\n",
      "Hello, World!\n",
      "Hello, World!\n",
      "Hello, World!\n",
      "Hello, World!\n",
      "Hello, World!\n",
      "Hello, World!\n",
      "Hello, World!\n",
      "Hello, World!\n",
      "Hello, World!\n",
      "Hello, World!\n",
      "Hello, World!\n",
      "Hello, World!\n",
      "Hello, World!\n",
      "Hello, World!\n",
      "Hello, World!\n"
     ]
    }
   ],
   "source": [
    "import threading\n",
    "\n",
    "def printit():\n",
    "  threading.Timer(0.2, printit).start()\n",
    "  print(\"Hello, World!\")\n",
    "\n",
    "printit()"
   ]
  },
  {
   "cell_type": "code",
   "execution_count": 1,
   "id": "6fb13788",
   "metadata": {},
   "outputs": [
    {
     "name": "stdout",
     "output_type": "stream",
     "text": [
      "[1, 2]\n",
      "[1, 2, 3, 4, 5]\n"
     ]
    }
   ],
   "source": [
    "my_list = [1,2,3,4,5]\n",
    "print(my_list[:2])\n",
    "print(my_list)"
   ]
  },
  {
   "cell_type": "code",
   "execution_count": 2,
   "id": "1909d033",
   "metadata": {},
   "outputs": [
    {
     "data": {
      "text/plain": [
       "False"
      ]
     },
     "execution_count": 2,
     "metadata": {},
     "output_type": "execute_result"
    }
   ],
   "source": [
    "13 not in {11,12,13}"
   ]
  },
  {
   "cell_type": "code",
   "execution_count": 4,
   "id": "04f55695",
   "metadata": {},
   "outputs": [
    {
     "name": "stdout",
     "output_type": "stream",
     "text": [
      "This should show\n"
     ]
    }
   ],
   "source": [
    "if False: #does this cause problems?\n",
    "    print('this should never show')\n",
    "elif True: #does this cause problems?\n",
    "    print('This should show')"
   ]
  },
  {
   "cell_type": "code",
   "execution_count": 5,
   "id": "edb69c16",
   "metadata": {},
   "outputs": [],
   "source": [
    "#map gives the layout and the uneaten pellets and pills.\n",
    "\n",
    "def dist_square(a, b):\n",
    "\treturn (a[0] - b[0])**2 + (a[1] - b[1])**2\n",
    "\n",
    "class Map():\n",
    "\n",
    "\tdef __init__(self):\n",
    "\t\tself.pellets_eaten = 0\n",
    "\t#   1   2   3   4   5   6   7   8   9   10  11  12  13  14  15  16  17  18  19  20  21  22  23  24  25  26  27  28\n",
    "\t\tself.game_board={{'w','w','w','w','w','w','w','w','w','w','w','w','w','w','w','w','w','w','w','w','w','w','w','w','w','w','w','w'} \\\n",
    "\t\t,{'w','w','w','w','w','w','w','w','w','w','w','w','w','w','w','w','w','w','w','w','w','w','w','w','w','w','w','w'} #2 \\\n",
    "\t\t,{'w','w','w','w','w','w','w','w','w','w','w','w','w','w','w','w','w','w','w','w','w','w','w','w','w','w','w','w'} #3 \\\n",
    "\t\t,{'w','w','w','w','w','w','w','w','w','w','w','w','w','w','w','w','w','w','w','w','w','w','w','w','w','w','w','w'} #4 \\\n",
    "\t\t,{'w','p','p','p','p','p','p','p','p','p','p','p','p','w','w','p','p','p','p','p','p','p','p','p','p','p','p','w'} #5 \\\n",
    "\t\t,{'w','p','w','w','w','w','p','w','w','w','w','w','p','w','w','p','w','w','w','w','w','p','w','w','w','w','p','w'} #6 \\\n",
    "\t\t,{'w','e','w','w','w','w','p','w','w','w','w','w','p','w','w','p','w','w','w','w','w','p','w','w','w','w','e','w'} #7 \\\n",
    "\t\t,{'w','p','w','w','w','w','p','w','w','w','w','w','p','w','w','p','w','w','w','w','w','p','w','w','w','w','p','w'} #8 \\\n",
    "\t\t,{'w','p','p','p','p','p','p','p','p','p','p','p','p','p','p','p','p','p','p','p','p','p','p','p','p','p','p','w'} #9 \\\n",
    "\t\t,{'w','p','w','w','w','w','p','w','w','p','w','w','w','w','w','w','w','w','p','w','w','p','w','w','w','w','p','w'} #10 \\\n",
    "\t\t,{'w','p','w','w','w','w','p','w','w','p','w','w','w','w','w','w','w','w','p','w','w','p','w','w','w','w','p','w'} #11 \\\n",
    "\t\t,{'w','p','p','p','p','p','p','w','w','p','p','p','p','w','w','p','p','p','p','w','w','p','p','p','p','p','p','w'} #12 \\\n",
    "\t\t,{'w','w','w','w','w','w','p','w','w','w','w','w','h','w','w','h','w','w','w','w','w','p','w','w','w','w','w','w'} #13 \\\n",
    "\t\t,{'w','w','w','w','w','w','p','w','w','w','w','w','h','w','w','h','w','w','w','w','w','p','w','w','w','w','w','w'} #14 \\\n",
    "\t\t,{'w','w','w','w','w','w','p','w','w','h','h','h','h','h','h','h','h','h','h','w','w','p','w','w','w','w','w','w'} #15 \\\n",
    "\t\t,{'w','w','w','w','w','w','p','w','w','h','w','w','w','w','w','w','w','w','h','w','w','p','w','w','w','w','w','w'} #16 \\\n",
    "\t\t,{'w','w','w','w','w','w','p','w','w','h','w','h','h','h','h','h','h','w','h','w','w','p','w','w','w','w','w','w'} #17 \\\n",
    "\t\t,{'s','s','s','s','s','s','p','h','h','h','w','h','h','h','h','h','h','w','h','h','h','p','s','s','s','s','s','s'} #18 \\\n",
    "\t\t,{'w','w','w','w','w','w','p','w','w','h','w','h','h','h','h','h','h','w','h','w','w','p','w','w','w','w','w','w'} #19 \\\n",
    "\t\t,{'w','w','w','w','w','w','p','w','w','h','w','w','w','w','w','w','w','w','h','w','w','p','w','w','w','w','w','w'} #20 \\\n",
    "\t\t,{'w','w','w','w','w','w','p','w','w','h','h','h','h','h','h','h','h','h','h','w','w','p','w','w','w','w','w','w'} #21 \\\n",
    "\t\t,{'w','w','w','w','w','w','p','w','w','h','w','w','w','w','w','w','w','w','h','w','w','p','w','w','w','w','w','w'} #22 \\\n",
    "\t\t,{'w','w','w','w','w','w','p','w','w','h','w','w','w','w','w','w','w','w','h','w','w','p','w','w','w','w','w','w'} #23 \\\n",
    "\t\t,{'w','p','p','p','p','p','p','p','p','p','p','p','p','w','w','p','p','p','p','p','p','p','p','p','p','p','p','w'} #24 \\\n",
    "\t\t,{'w','p','w','w','w','w','p','w','w','w','w','w','p','w','w','p','w','w','w','w','w','p','w','w','w','w','p','w'} #25 \\\n",
    "\t\t,{'w','p','w','w','w','w','p','w','w','w','w','w','p','w','w','p','w','w','w','w','w','p','w','w','w','w','p','w'} #26 \\\n",
    "\t\t,{'w','e','p','p','w','w','p','p','p','p','p','p','p','h','h','p','p','p','p','p','p','p','w','w','p','p','e','w'} #27 \\\n",
    "\t\t,{'w','w','w','p','w','w','p','w','w','p','w','w','w','w','w','w','w','w','p','w','w','p','w','w','p','w','w','w'} #28 \\\n",
    "\t\t,{'w','w','w','p','w','w','p','w','w','p','w','w','w','w','w','w','w','w','p','w','w','p','w','w','p','w','w','w'} #29 \\\n",
    "\t\t,{'w','p','p','p','p','p','p','w','w','p','p','p','p','w','w','p','p','p','p','w','w','p','p','p','p','p','p','w'} #30 \\\n",
    "\t\t,{'w','p','w','w','w','w','w','w','w','w','w','w','p','w','w','p','w','w','w','w','w','w','w','w','w','w','p','w'} #31 \\\n",
    "\t\t,{'w','p','w','w','w','w','w','w','w','w','w','w','p','w','w','p','w','w','w','w','w','w','w','w','w','w','p','w'} #32 \\\n",
    "\t\t,{'w','p','p','p','p','p','p','p','p','p','p','p','p','p','p','p','p','p','p','p','p','p','p','p','p','p','p','w'} #33 \\\n",
    "\t\t,{'w','w','w','w','w','w','w','w','w','w','w','w','w','w','w','w','w','w','w','w','w','w','w','w','w','w','w','w'} #34 \\\n",
    "\t\t,{'w','w','w','w','w','w','w','w','w','w','w','w','w','w','w','w','w','w','w','w','w','w','w','w','w','w','w','w'} #35 \\\n",
    "\t\t,{'w','w','w','w','w','w','w','w','w','w','w','w','w','w','w','w','w','w','w','w','w','w','w','w','w','w','w','w'}}#36 \\\n",
    "\n",
    "\tdef pellets_left(self):\n",
    "\t\tresult = 0\n",
    "\t\tfor row in self.game_board:\n",
    "\t\t\tfor tile in row:\n",
    "\t\t\t\tif tile == 'p':\n",
    "\t\t\t\t\tresult += 1\n",
    "\t\treturn result\n",
    "\n",
    "\tdef pass_through_tile(self, coord): #coord should be a 2-pl\n",
    "\t\tif self.game_board[coord[0]][coord[1]] == 'p':\n",
    "\t\t\tself.pellets_eaten += 1\n",
    "\t\t\tself.game_board[coord[0]][coord[1]] = 'h'\n",
    "\n",
    "\tdef udlr(self, coord):\n",
    "\t\tresult = []\n",
    "\t\tif self.game_board[coord[0] - 1][coord[1]] == 'w':\n",
    "\t\t\tresult.append(0)\n",
    "\t\telse:\n",
    "\t\t\tresult.append(1)\n",
    "\t\tif self.game_board[coord[0] + 1][coord[1]] == 'w':\n",
    "\t\t\tresult.append(0)\n",
    "\t\telse:\n",
    "\t\t\tresult.append(1)\n",
    "\t\tif self.game_board[coord[0]][(coord[1] - 1)%28] == 'w':\n",
    "\t\t\tresult.append(0)\n",
    "\t\telse:\n",
    "\t\t\tresult.append(1)\n",
    "\t\tif self.game_board[coord[0]][(coord[1] + 1)%28] == 'w':\n",
    "\t\t\tresult.append(0)\n",
    "\t\telse:\n",
    "\t\t\tresult.append(1)"
   ]
  },
  {
   "cell_type": "code",
   "execution_count": 8,
   "id": "92ec5c80",
   "metadata": {},
   "outputs": [],
   "source": [
    "class Ghost():\n",
    "\tdef __init__(self, name='Blinky'):\n",
    "\t\tself.pixel_position = [4, 0]\n",
    "\t\t#self.pacman_state = pacman.get_state()\n",
    "\t\tself.name = name\n",
    "\t\tself.direction = 'L'\n",
    "\t\tif self.name == 'Blinky':\n",
    "\t\t\tself.tile_position = [14, 14]\n",
    "\t\t\tself.default_tile = {-1, 25}\n",
    "\t\telif self.name == 'Pinky': #pink\n",
    "\t\t\tself.tile_position = [17, 14]\n",
    "\t\t\tself.default_tile = {-1, 2}\n",
    "\t\telif self.name == 'Inky': #blue\n",
    "\t\t\tself.tile_position = [17, 12]\n",
    "\t\t\tself.default_tile = {34, 27}\n",
    "\t\telif self.name == 'Clyde': #orange\n",
    "\t\t\tself.tile_position = [17, 16]\n",
    "\t\t\tself.default_tile = {34, 0}\n",
    "\t\telse:\n",
    "\t\t\tpass"
   ]
  },
  {
   "cell_type": "code",
   "execution_count": 9,
   "id": "e7f8aee3",
   "metadata": {},
   "outputs": [],
   "source": [
    "blinky = Ghost()"
   ]
  },
  {
   "cell_type": "code",
   "execution_count": 10,
   "id": "e39d0de7",
   "metadata": {},
   "outputs": [
    {
     "data": {
      "text/plain": [
       "[14, 14]"
      ]
     },
     "execution_count": 10,
     "metadata": {},
     "output_type": "execute_result"
    }
   ],
   "source": [
    "blinky.tile_position"
   ]
  },
  {
   "cell_type": "code",
   "execution_count": 11,
   "id": "594523bc",
   "metadata": {},
   "outputs": [
    {
     "data": {
      "text/plain": [
       "{-1, 25}"
      ]
     },
     "execution_count": 11,
     "metadata": {},
     "output_type": "execute_result"
    }
   ],
   "source": [
    "blinky.default_tile"
   ]
  },
  {
   "cell_type": "code",
   "execution_count": 12,
   "id": "8751baea",
   "metadata": {},
   "outputs": [],
   "source": [
    "pinky = Ghost('Pinky')"
   ]
  },
  {
   "cell_type": "code",
   "execution_count": 13,
   "id": "a46bcdf1",
   "metadata": {},
   "outputs": [
    {
     "data": {
      "text/plain": [
       "{-1, 2}"
      ]
     },
     "execution_count": 13,
     "metadata": {},
     "output_type": "execute_result"
    }
   ],
   "source": [
    "pinky.default_tile"
   ]
  },
  {
   "cell_type": "code",
   "execution_count": null,
   "id": "010c5be4",
   "metadata": {},
   "outputs": [],
   "source": []
  }
 ],
 "metadata": {
  "kernelspec": {
   "display_name": "Python 3 (ipykernel)",
   "language": "python",
   "name": "python3"
  },
  "language_info": {
   "codemirror_mode": {
    "name": "ipython",
    "version": 3
   },
   "file_extension": ".py",
   "mimetype": "text/x-python",
   "name": "python",
   "nbconvert_exporter": "python",
   "pygments_lexer": "ipython3",
   "version": "3.11.5"
  }
 },
 "nbformat": 4,
 "nbformat_minor": 5
}
